{
 "cells": [
  {
   "cell_type": "code",
   "execution_count": 1,
   "id": "74903795-4d8d-4987-8b50-f67006c4564c",
   "metadata": {},
   "outputs": [],
   "source": [
    "### Dictionary ###"
   ]
  },
  {
   "cell_type": "code",
   "execution_count": 2,
   "id": "becf4445-86e5-4276-a37b-7b1ca4986827",
   "metadata": {},
   "outputs": [],
   "source": [
    "d={}"
   ]
  },
  {
   "cell_type": "code",
   "execution_count": 3,
   "id": "49328abc-f001-47ea-bae8-b22d9b7f4db8",
   "metadata": {},
   "outputs": [
    {
     "data": {
      "text/plain": [
       "dict"
      ]
     },
     "execution_count": 3,
     "metadata": {},
     "output_type": "execute_result"
    }
   ],
   "source": [
    "type(d)"
   ]
  },
  {
   "cell_type": "code",
   "execution_count": 6,
   "id": "bfbd868d-e2f7-4e2f-9e8e-505cf95c475d",
   "metadata": {},
   "outputs": [],
   "source": [
    "d={'key':\"value\",354:\"yash\",True:200} "
   ]
  },
  {
   "cell_type": "code",
   "execution_count": 7,
   "id": "8ccd9202-af67-46f7-856e-89e7fd16aa9e",
   "metadata": {},
   "outputs": [],
   "source": [
    "# A Key can be string , number , boolean and \n",
    "# A Value can be anything"
   ]
  },
  {
   "cell_type": "code",
   "execution_count": 11,
   "id": "ebcced54-aaa3-4d9a-a6a7-6f1d5dda13da",
   "metadata": {},
   "outputs": [
    {
     "name": "stdout",
     "output_type": "stream",
     "text": [
      "value\n",
      "yash\n",
      "200\n",
      "200\n"
     ]
    }
   ],
   "source": [
    "print(d['key'])\n",
    "print(d[354])\n",
    "print(d[True])\n",
    "print(d[1])"
   ]
  },
  {
   "cell_type": "code",
   "execution_count": 13,
   "id": "de4a4a65-90b3-4e5d-b81b-1598cc7cb5f5",
   "metadata": {},
   "outputs": [],
   "source": [
    "d1={\"name\":\"yash\",\"email\":'yk@gmail.com',\"name\":\"newyork\"}"
   ]
  },
  {
   "cell_type": "code",
   "execution_count": 14,
   "id": "4ed88f28-976a-47c6-be0d-593fc4440a56",
   "metadata": {},
   "outputs": [
    {
     "data": {
      "text/plain": [
       "'newyork'"
      ]
     },
     "execution_count": 14,
     "metadata": {},
     "output_type": "execute_result"
    }
   ],
   "source": [
    "d1['name'] ### IT AUTO UPDATES THE VALUE OF KEY"
   ]
  },
  {
   "cell_type": "code",
   "execution_count": 15,
   "id": "9a649641-a832-4f19-b0f7-a65ecb1c77e7",
   "metadata": {},
   "outputs": [],
   "source": [
    "d2={\"Company\":\"pwskills\",\"Courses\":[\"Data Sci\",\"web dev\",\"dsa\",\"c++\",\"java\"]}"
   ]
  },
  {
   "cell_type": "code",
   "execution_count": 16,
   "id": "7cd88d87-fa1d-4b30-a0ed-717c7f1f4bd2",
   "metadata": {},
   "outputs": [
    {
     "data": {
      "text/plain": [
       "['Data Sci', 'web dev', 'dsa', 'c++', 'java']"
      ]
     },
     "execution_count": 16,
     "metadata": {},
     "output_type": "execute_result"
    }
   ],
   "source": [
    "d2[\"Courses\"]"
   ]
  },
  {
   "cell_type": "code",
   "execution_count": 17,
   "id": "90d60c8a-5c1c-4443-9349-acfba99cd2f6",
   "metadata": {},
   "outputs": [
    {
     "data": {
      "text/plain": [
       "'dsa'"
      ]
     },
     "execution_count": 17,
     "metadata": {},
     "output_type": "execute_result"
    }
   ],
   "source": [
    "d2[\"Courses\"][2]"
   ]
  },
  {
   "cell_type": "code",
   "execution_count": 18,
   "id": "cb6e4f74-e738-4864-b9f5-1783c38c80b3",
   "metadata": {},
   "outputs": [],
   "source": [
    "# value can be list , tuple , dictionary , set !!!!"
   ]
  },
  {
   "cell_type": "code",
   "execution_count": 19,
   "id": "2f2ed734-6090-42fc-9c26-c98a7cdba061",
   "metadata": {},
   "outputs": [],
   "source": [
    "d3={\"list\":[1,2,3,4,5],\"tuple\":(1,2,3,4,5),\"dict\":{\"key\":\"value\"},\"set\":{1,1,2,2,3}}"
   ]
  },
  {
   "cell_type": "code",
   "execution_count": 20,
   "id": "c2be538e-7878-4330-9595-087414cccfab",
   "metadata": {},
   "outputs": [
    {
     "name": "stdout",
     "output_type": "stream",
     "text": [
      "[1, 2, 3, 4, 5]\n",
      "(1, 2, 3, 4, 5)\n",
      "{'key': 'value'}\n",
      "{1, 2, 3}\n"
     ]
    }
   ],
   "source": [
    "print(d3[\"list\"])\n",
    "print(d3[\"tuple\"])\n",
    "print(d3[\"dict\"])\n",
    "print(d3[\"set\"])"
   ]
  },
  {
   "cell_type": "code",
   "execution_count": 21,
   "id": "0646fab4-c586-4840-829e-aa37fb4da0dc",
   "metadata": {},
   "outputs": [
    {
     "name": "stdout",
     "output_type": "stream",
     "text": [
      "4\n",
      "3\n",
      "value\n",
      "{1, 2, 3}\n"
     ]
    }
   ],
   "source": [
    "print(d3[\"list\"][3])\n",
    "print(d3[\"tuple\"][2])\n",
    "print(d3[\"dict\"][\"key\"])\n",
    "print(d3[\"set\"])# No indexing"
   ]
  },
  {
   "cell_type": "code",
   "execution_count": 22,
   "id": "8532ac2b-9128-4ff9-9da3-8be8d5818164",
   "metadata": {},
   "outputs": [],
   "source": [
    "## To add one more data in dictionary"
   ]
  },
  {
   "cell_type": "code",
   "execution_count": 23,
   "id": "04b03e4d-53e8-4a04-b6c8-812dcf090ff0",
   "metadata": {},
   "outputs": [],
   "source": [
    "d[\"fruits\"]=[\"apple\",\"mango\",\"grapes\"]"
   ]
  },
  {
   "cell_type": "code",
   "execution_count": 24,
   "id": "fb9889e8-bedc-4874-a4e3-b3280b2225a9",
   "metadata": {},
   "outputs": [
    {
     "data": {
      "text/plain": [
       "{'key': 'value',\n",
       " 354: 'yash',\n",
       " True: 200,\n",
       " 'fruits': ['apple', 'mango', 'grapes']}"
      ]
     },
     "execution_count": 24,
     "metadata": {},
     "output_type": "execute_result"
    }
   ],
   "source": [
    "d ## if avilable that key it will update its value"
   ]
  },
  {
   "cell_type": "code",
   "execution_count": 25,
   "id": "ad5566cb-c72c-40f5-824c-f2eca48b7fd4",
   "metadata": {},
   "outputs": [],
   "source": [
    "### To delete a pair from dictionary"
   ]
  },
  {
   "cell_type": "code",
   "execution_count": 27,
   "id": "f4797bee-7c60-4ac5-87a6-b804d78bba70",
   "metadata": {},
   "outputs": [],
   "source": [
    "del d[True]"
   ]
  },
  {
   "cell_type": "code",
   "execution_count": 28,
   "id": "8e04f061-288c-417a-a798-93a3aaa126be",
   "metadata": {},
   "outputs": [
    {
     "data": {
      "text/plain": [
       "{'key': 'value', 354: 'yash', 'fruits': ['apple', 'mango', 'grapes']}"
      ]
     },
     "execution_count": 28,
     "metadata": {},
     "output_type": "execute_result"
    }
   ],
   "source": [
    "d"
   ]
  },
  {
   "cell_type": "code",
   "execution_count": 33,
   "id": "e9d11057-8166-4376-b425-1eddaa1159c4",
   "metadata": {},
   "outputs": [
    {
     "name": "stdout",
     "output_type": "stream",
     "text": [
      "dict_keys(['key', 354, 'fruits'])\n",
      "dict_values(['value', 'yash', ['apple', 'mango', 'grapes']])\n",
      "dict_items([('key', 'value'), (354, 'yash'), ('fruits', ['apple', 'mango', 'grapes'])])\n"
     ]
    }
   ],
   "source": [
    "# to get all keys \n",
    "# to get all values\n",
    "# to get all pairs\n",
    "print(d.keys())\n",
    "print(d.values())\n",
    "print(d.items())"
   ]
  },
  {
   "cell_type": "code",
   "execution_count": 38,
   "id": "96690744-ec65-4c2d-864d-483147721302",
   "metadata": {},
   "outputs": [],
   "source": [
    "#### pop requires key to delete value "
   ]
  },
  {
   "cell_type": "code",
   "execution_count": 39,
   "id": "2a3b4043-b30f-4abc-92a7-08e1f167725c",
   "metadata": {},
   "outputs": [
    {
     "data": {
      "text/plain": [
       "'value'"
      ]
     },
     "execution_count": 39,
     "metadata": {},
     "output_type": "execute_result"
    }
   ],
   "source": [
    "d.pop('key')"
   ]
  },
  {
   "cell_type": "code",
   "execution_count": 40,
   "id": "5f4f2e3b-7494-430d-9160-115dc3bb4e1b",
   "metadata": {},
   "outputs": [
    {
     "data": {
      "text/plain": [
       "{354: 'yash', 'fruits': ['apple', 'mango', 'grapes']}"
      ]
     },
     "execution_count": 40,
     "metadata": {},
     "output_type": "execute_result"
    }
   ],
   "source": [
    "d"
   ]
  },
  {
   "cell_type": "code",
   "execution_count": 1,
   "id": "0e652707-9712-4a08-85af-b8677a90c105",
   "metadata": {},
   "outputs": [],
   "source": [
    "########################################################\n",
    "########################################################\n",
    "############## if -  else,### \n",
    "#######if - elif - else ###############"
   ]
  },
  {
   "cell_type": "code",
   "execution_count": null,
   "id": "f876cc7a-376d-4dea-9119-30b8d7460d98",
   "metadata": {},
   "outputs": [
    {
     "name": "stdin",
     "output_type": "stream",
     "text": [
      "Enter your marks:  60\n"
     ]
    },
    {
     "name": "stdout",
     "output_type": "stream",
     "text": [
      "You are in A3 batch\n"
     ]
    }
   ],
   "source": [
    "marks = int(input(\"Enter your marks: \")) ## input func takes every input as a string\n",
    "if marks >= 90:\n",
    "    print(\"You are in A1 batch\")\n",
    "elif marks < 90 and marks >=70:\n",
    "    print(\"You are in A2 batch\")\n",
    "elif marks < 70 and marks >=50:\n",
    "    print(\"You are in A3 batch\")\n",
    "else :\n",
    "    print(\"You are in A4 batch\")"
   ]
  },
  {
   "cell_type": "code",
   "execution_count": 10,
   "id": "249df350-b2d7-497d-9127-e135a03cee62",
   "metadata": {},
   "outputs": [
    {
     "data": {
      "text/plain": [
       "False"
      ]
     },
     "execution_count": 10,
     "metadata": {},
     "output_type": "execute_result"
    }
   ],
   "source": [
    "60<=50"
   ]
  },
  {
   "cell_type": "code",
   "execution_count": 14,
   "id": "f7f72fb7-2a72-415a-825d-57ae300a4938",
   "metadata": {},
   "outputs": [
    {
     "name": "stdin",
     "output_type": "stream",
     "text": [
      "Enter the price:  1000\n"
     ]
    },
    {
     "name": "stdout",
     "output_type": "stream",
     "text": [
      "I will not purchase.\n"
     ]
    }
   ],
   "source": [
    "price=int(input(\"Enter the price: \"))\n",
    "if price >= 1000:\n",
    "    print(\"I will not purchase.\")\n",
    "else:\n",
    "    print(\"I will purchase.\")"
   ]
  },
  {
   "cell_type": "code",
   "execution_count": 15,
   "id": "78a72d18-99b0-4dd6-a5a0-b9031e394203",
   "metadata": {},
   "outputs": [],
   "source": [
    "########## LOOP #############\n",
    "## for loop ####\n",
    "## while loop ####"
   ]
  },
  {
   "cell_type": "code",
   "execution_count": 26,
   "id": "f82ef31f-ad75-4915-905f-abfae281d7db",
   "metadata": {},
   "outputs": [],
   "source": [
    "l=[1,2,3,4,5,6,7,8,9]## Add one to each number"
   ]
  },
  {
   "cell_type": "code",
   "execution_count": 27,
   "id": "70e3dd7d-21fb-400a-a3f1-f9c0f2e5e9be",
   "metadata": {},
   "outputs": [
    {
     "data": {
      "text/plain": [
       "[1, 2, 3, 4, 5, 6, 7, 8, 9]"
      ]
     },
     "execution_count": 27,
     "metadata": {},
     "output_type": "execute_result"
    }
   ],
   "source": [
    "l"
   ]
  },
  {
   "cell_type": "code",
   "execution_count": 28,
   "id": "c23fa769-f1bc-4a6b-b654-bae1757e3812",
   "metadata": {},
   "outputs": [
    {
     "name": "stdout",
     "output_type": "stream",
     "text": [
      "1\n",
      "2\n",
      "3\n",
      "4\n",
      "5\n",
      "6\n",
      "7\n",
      "8\n",
      "9\n"
     ]
    }
   ],
   "source": [
    "for i in l:\n",
    "    print(i)"
   ]
  },
  {
   "cell_type": "code",
   "execution_count": 30,
   "id": "1b53abce-bee0-4744-a87e-7e6c583e21bb",
   "metadata": {},
   "outputs": [],
   "source": [
    "l1=[]\n",
    "for i in l:\n",
    "    l1.append(i+1)"
   ]
  },
  {
   "cell_type": "code",
   "execution_count": 31,
   "id": "5b58c2ad-6dd1-4210-87f0-809493deaf50",
   "metadata": {},
   "outputs": [
    {
     "data": {
      "text/plain": [
       "[2, 3, 4, 5, 6, 7, 8, 9, 10]"
      ]
     },
     "execution_count": 31,
     "metadata": {},
     "output_type": "execute_result"
    }
   ],
   "source": [
    "l1"
   ]
  },
  {
   "cell_type": "code",
   "execution_count": 32,
   "id": "2e108f75-9da9-4ce4-81c5-a17a1e451d1f",
   "metadata": {},
   "outputs": [],
   "source": [
    "l2=[\"sudh\",\"kumar\",\"pwskills\",\"course\"] # convert into uper case"
   ]
  },
  {
   "cell_type": "code",
   "execution_count": 33,
   "id": "0f5dc1a1-7aa5-4e06-9a2f-29d452c6aff8",
   "metadata": {},
   "outputs": [
    {
     "data": {
      "text/plain": [
       "'SUDH'"
      ]
     },
     "execution_count": 33,
     "metadata": {},
     "output_type": "execute_result"
    }
   ],
   "source": [
    "l2[0].upper()"
   ]
  },
  {
   "cell_type": "code",
   "execution_count": 34,
   "id": "6f92db27-a545-4f36-ae23-784b3feb388a",
   "metadata": {},
   "outputs": [
    {
     "data": {
      "text/plain": [
       "['sudh', 'kumar', 'pwskills', 'course']"
      ]
     },
     "execution_count": 34,
     "metadata": {},
     "output_type": "execute_result"
    }
   ],
   "source": [
    "l2"
   ]
  },
  {
   "cell_type": "code",
   "execution_count": 35,
   "id": "6286bf5d-73dc-4aed-a81b-138f36209b0a",
   "metadata": {},
   "outputs": [
    {
     "data": {
      "text/plain": [
       "['SUDH', 'KUMAR', 'PWSKILLS', 'COURSE']"
      ]
     },
     "execution_count": 35,
     "metadata": {},
     "output_type": "execute_result"
    }
   ],
   "source": [
    "l3=[]\n",
    "for i in l2:\n",
    "    l3.append(i.upper())\n",
    "l3"
   ]
  },
  {
   "cell_type": "code",
   "execution_count": 36,
   "id": "b145c67f-31f9-40e9-89bc-afffb5ce2b76",
   "metadata": {},
   "outputs": [],
   "source": [
    "l=[1,4,7,9,7.5,6.8,\"yash\",\"kapoor\",\"abc\"]\n",
    "# seperate numeric and string value in two seperate list"
   ]
  },
  {
   "cell_type": "code",
   "execution_count": 40,
   "id": "b6e82321-a6da-42cf-b79d-a80985831c93",
   "metadata": {},
   "outputs": [
    {
     "name": "stdout",
     "output_type": "stream",
     "text": [
      "[1, 4, 7, 9, 7.5, 6.8]\n",
      "['yash', 'kapoor', 'abc']\n"
     ]
    }
   ],
   "source": [
    "l1=[]\n",
    "l2=[]\n",
    "for i in l:\n",
    "    if type(i)==int or type(i)==float:\n",
    "        l1.append(i)\n",
    "    elif type(i)==str:\n",
    "        l2.append(i)\n",
    "print(l1)\n",
    "print(l2)"
   ]
  },
  {
   "cell_type": "code",
   "execution_count": null,
   "id": "fafe9867-57c8-42a0-a6bb-46ec7f8cbfb2",
   "metadata": {},
   "outputs": [],
   "source": []
  }
 ],
 "metadata": {
  "kernelspec": {
   "display_name": "Python 3 (ipykernel)",
   "language": "python",
   "name": "python3"
  },
  "language_info": {
   "codemirror_mode": {
    "name": "ipython",
    "version": 3
   },
   "file_extension": ".py",
   "mimetype": "text/x-python",
   "name": "python",
   "nbconvert_exporter": "python",
   "pygments_lexer": "ipython3",
   "version": "3.10.8"
  }
 },
 "nbformat": 4,
 "nbformat_minor": 5
}
